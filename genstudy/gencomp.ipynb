{
 "cells": [
  {
   "cell_type": "code",
   "execution_count": 9,
   "metadata": {},
   "outputs": [],
   "source": [
    "import json\n",
    "import uproot\n",
    "import uproot_methods\n",
    "import awkward\n",
    "import numpy as np\n",
    "from functools import partial\n",
    "\n",
    "%matplotlib inline\n",
    "import coffea.processor as processor\n",
    "import coffea.hist as hist\n",
    "from coffea.util import load, save\n",
    "import matplotlib.pyplot as plt\n",
    "\n",
    "import mplhep\n",
    "plt.style.use(mplhep.style.ROOT)"
   ]
  },
  {
   "cell_type": "code",
   "execution_count": 20,
   "metadata": {},
   "outputs": [
    {
     "data": {
      "text/plain": [
       "['root://cmsxrootd.fnal.gov//store/mc/RunIIAutumn18NanoAODv4/GluGluHToBB_M-125_13TeV_powheg_MINLO_NNLOPS_pythia8/NANOAODSIM/Nano14Dec2018_102X_upgrade2018_realistic_v16-v1/230000/B364813A-FBC6-EF43-A25D-C4836E607C81.root',\n",
       " 'root://cmsxrootd.fnal.gov//store/mc/RunIIAutumn18NanoAODv4/GluGluHToBB_M-125_13TeV_powheg_MINLO_NNLOPS_pythia8/NANOAODSIM/Nano14Dec2018_102X_upgrade2018_realistic_v16-v1/230000/9ADF1F78-5401-6341-A9C8-DF77D089D2D7.root',\n",
       " 'root://cmsxrootd.fnal.gov//store/mc/RunIIAutumn18NanoAODv4/GluGluHToBB_M-125_13TeV_powheg_MINLO_NNLOPS_pythia8/NANOAODSIM/Nano14Dec2018_102X_upgrade2018_realistic_v16-v1/230000/3C011D0D-46CF-734A-9CCA-F3BAD4E22EAD.root',\n",
       " 'root://cmsxrootd.fnal.gov//store/mc/RunIIAutumn18NanoAODv4/GluGluHToBB_M-125_13TeV_powheg_MINLO_NNLOPS_pythia8/NANOAODSIM/Nano14Dec2018_102X_upgrade2018_realistic_v16-v1/230000/22050A9C-D732-AA43-B099-2C23AC09E724.root',\n",
       " 'root://cmsxrootd.fnal.gov//store/mc/RunIIAutumn18NanoAODv4/GluGluHToBB_M-125_13TeV_powheg_MINLO_NNLOPS_pythia8/NANOAODSIM/Nano14Dec2018_102X_upgrade2018_realistic_v16-v1/230000/C3D4B31E-216D-BE44-8716-9FAD9A88DB9F.root',\n",
       " 'root://cmsxrootd.fnal.gov//store/mc/RunIIAutumn18NanoAODv4/GluGluHToBB_M-125_13TeV_powheg_MINLO_NNLOPS_pythia8/NANOAODSIM/Nano14Dec2018_102X_upgrade2018_realistic_v16-v1/240000/FA994E4A-12AC-3944-9602-95C44C52CDC8.root',\n",
       " 'root://cmsxrootd.fnal.gov//store/mc/RunIIAutumn18NanoAODv4/GluGluHToBB_M-125_13TeV_powheg_MINLO_NNLOPS_pythia8/NANOAODSIM/Nano14Dec2018_102X_upgrade2018_realistic_v16-v1/240000/D2B2776B-18F9-974F-8CEB-0268F23DAA64.root',\n",
       " 'root://cmsxrootd.fnal.gov//store/mc/RunIIAutumn18NanoAODv4/GluGluHToBB_M-125_13TeV_powheg_MINLO_NNLOPS_pythia8/NANOAODSIM/Nano14Dec2018_102X_upgrade2018_realistic_v16-v1/240000/8D962D5C-8373-9A45-A04F-99A241E05D23.root',\n",
       " 'root://cmsxrootd.fnal.gov//store/mc/RunIIAutumn18NanoAODv4/GluGluHToBB_M-125_13TeV_powheg_MINLO_NNLOPS_pythia8/NANOAODSIM/Nano14Dec2018_102X_upgrade2018_realistic_v16-v1/240000/1E670D62-0794-B046-96BB-082D475D76CC.root',\n",
       " 'root://cmsxrootd.fnal.gov//store/mc/RunIIAutumn18NanoAODv4/GluGluHToBB_M-125_13TeV_powheg_MINLO_NNLOPS_pythia8/NANOAODSIM/Nano14Dec2018_102X_upgrade2018_realistic_v16-v1/240000/0174EED2-8B3D-5041-B92F-1CC9D21BCF94.root',\n",
       " 'root://cmsxrootd.fnal.gov//store/mc/RunIIAutumn18NanoAODv4/GluGluHToBB_M-125_13TeV_powheg_MINLO_NNLOPS_pythia8/NANOAODSIM/Nano14Dec2018_102X_upgrade2018_realistic_v16-v1/230000/D79EB3A9-63C2-3244-B234-ADDCC83977E5.root']"
      ]
     },
     "execution_count": 20,
     "metadata": {},
     "output_type": "execute_result"
    }
   ],
   "source": [
    "samples['GluGluHToBB_M-125_13TeV_powheg_MINLO_NNLOPS_pythia8']"
   ]
  },
  {
   "cell_type": "code",
   "execution_count": 19,
   "metadata": {},
   "outputs": [
    {
     "name": "stdout",
     "output_type": "stream",
     "text": [
      "GluGluHToBB_M125_13TeV_powheg_pythia8\n",
      "GluGluHToBB_M125_13TeV_amcatnloFXFX_pythia8\n",
      "GluGluHToBB_M-125_13TeV_powheg_MINLO_NNLOPS_pythia8\n",
      "VBFHToBB_M-125_13TeV_powheg_pythia8_weightfix\n"
     ]
    }
   ],
   "source": [
    "with open('files_prev.json') as fin:\n",
    "    samples = json.load(fin)\n",
    "\n",
    "# samples['GluGluHToBB_M125_LHEHpT_250-Inf_13TeV_amcatnloFXFX_pythia8'] = samples['GluGluHToBB_M125_LHEHpT_250-Inf_13TeV_amcatnloFXFX_pythia8'][:2]\n",
    "del samples['GluGluHToBB_M125_LHEHpT_250-Inf_13TeV_amcatnloFXFX_pythia8']\n",
    "redir = 'root://cmsxrootd.fnal.gov/'\n",
    "samples = {k: [redir+f for f in v] for k, v in samples.items()}\n",
    "print(\"\\n\".join(samples.keys()))"
   ]
  },
  {
   "cell_type": "code",
   "execution_count": 3,
   "metadata": {},
   "outputs": [],
   "source": [
    "samples['MG5TopMassEffects'] = ['/uscms_data/d3/ncsmith/dazsle/genHiggsStuff/mg5masseffects/nanogen/output.root']"
   ]
  },
  {
   "cell_type": "code",
   "execution_count": 28,
   "metadata": {},
   "outputs": [],
   "source": [
    "frwt = uproot.open('ggh_ptH_n3lo.root')\n",
    "num = frwt['h_nnnlo_ptH']\n",
    "den = frwt['h_lo_ptH']\n",
    "from coffea import lookup_tools\n",
    "assert np.all(num.edges==den.edges)\n",
    "ptreweight = lookup_tools.dense_lookup.dense_lookup(num.values/den.values, num.edges)"
   ]
  },
  {
   "cell_type": "code",
   "execution_count": 30,
   "metadata": {},
   "outputs": [
    {
     "data": {
      "text/plain": [
       "[<matplotlib.lines.Line2D at 0x1297c0a90>]"
      ]
     },
     "execution_count": 30,
     "metadata": {},
     "output_type": "execute_result"
    },
    {
     "data": {
      "image/png": "[encoded data removed]",
      "text/plain": [
       "<Figure size 432x288 with 1 Axes>"
      ]
     },
     "metadata": {
      "needs_background": "light"
     },
     "output_type": "display_data"
    }
   ],
   "source": [
    "x = np.linspace(0,1400,200)\n",
    "plt.plot(x, ptreweight(x))"
   ]
  },
  {
   "cell_type": "code",
   "execution_count": null,
   "metadata": {},
   "outputs": [],
   "source": [
    "class HiggsGenComparison(processor.ProcessorABC):        \n",
    "    _gen_statusFlags = {\n",
    "        0: 'isPrompt',\n",
    "        1: 'isDecayedLeptonHadron',\n",
    "        2: 'isTauDecayProduct',\n",
    "        3: 'isPromptTauDecayProduct',\n",
    "        4: 'isDirectTauDecayProduct',\n",
    "        5: 'isDirectPromptTauDecayProduct',\n",
    "        6: 'isDirectHadronDecayProduct',\n",
    "        7: 'isHardProcess',\n",
    "        8: 'fromHardProcess',\n",
    "        9: 'isHardProcessTauDecayProduct',\n",
    "        10: 'isDirectHardProcessTauDecayProduct',\n",
    "        11: 'fromHardProcessBeforeFSR',\n",
    "        12: 'isFirstCopy',\n",
    "        13: 'isLastCopy',\n",
    "        14: 'isLastCopyBeforeFSR'\n",
    "    }\n",
    "    \n",
    "    def __init__(self):\n",
    "        dataset_axis = hist.Cat(\"dataset\", \"Primary dataset\")\n",
    "        pt_axis = hist.Bin(\"pt\", r\"$p_{T,h}$ [GeV]\", 120, 0., 1200.)\n",
    "        detajj_axis = hist.Bin(\"detajj\", r\"$\\Delta\\eta_{jj}$\", 40, 0, 8)\n",
    "        mjj_axis = hist.Bin(\"mjj\", r\"$m_{jj}$\", 40, 0, 1000)\n",
    "        widx_axis = hist.Bin(\"widx\", \"Weight index\", 9, 0, 9)\n",
    "        \n",
    "        self._accumulator = processor.dict_accumulator({\n",
    "            'hpt': hist.Hist(\"Counts\", dataset_axis, pt_axis, widx_axis),\n",
    "            'hpt_showered': hist.Hist(\"Counts\", dataset_axis, pt_axis, widx_axis),\n",
    "            'j1pt': hist.Hist(\"Counts\", dataset_axis, hist.Bin(\"pt\", r\"$p_{T,j1}$ [GeV]\", 120, 0., 1200.), widx_axis),\n",
    "            'j2pt': hist.Hist(\"Counts\", dataset_axis, hist.Bin(\"pt\", r\"$p_{T,j2}$ [GeV]\", 120, 0., 1200.), widx_axis),\n",
    "            'vbfvars': hist.Hist(\"Counts\", dataset_axis, detajj_axis, mjj_axis, widx_axis),\n",
    "        })\n",
    "    \n",
    "    @property\n",
    "    def accumulator(self):\n",
    "        return self._accumulator\n",
    "\n",
    "    def statusmask(self, array, require):\n",
    "        mask = sum((1<<k) for k,v in self._gen_statusFlags.items() if v in require)\n",
    "        return (array & mask)==mask\n",
    "    \n",
    "    def nanoObject(self, df, prefix):\n",
    "        branches = set(k.decode('ascii') for k in df.available if k.decode('ascii').startswith(prefix))\n",
    "        p4branches = [prefix + k for k in ['pt', 'eta', 'phi', 'mass']]\n",
    "        branches -= set(p4branches)\n",
    "        objp4 = uproot_methods.TLorentzVectorArray.from_ptetaphim(*[df[b] for b in p4branches])\n",
    "        branches = {k[len(prefix):]: df[k] for k in branches}\n",
    "        obj = awkward.JaggedArray.zip(p4=objp4, **branches)\n",
    "        return obj\n",
    "\n",
    "    def process(self, df):\n",
    "        output = self.accumulator.identity()\n",
    "        dataset = df['dataset']\n",
    "        \n",
    "        genp = self.nanoObject(df, 'GenPart_')\n",
    "        genj = self.nanoObject(df, 'GenJet_')\n",
    "        genj8 = self.nanoObject(df, 'GenJetAK8_')\n",
    "\n",
    "        hidx = (genp['pdgId']==25) & self.statusmask(genp['statusFlags'], {'isHardProcess'})\n",
    "        hidx_showered = (genp['pdgId']==25) & self.statusmask(genp['statusFlags'], {'fromHardProcess', 'isLastCopy'})\n",
    "        higgs = genp[hidx]\n",
    "        higgs_showered = genp[hidx_showered]\n",
    "        \n",
    "        cross = genj['p4'].cross(higgs_showered['p4'], nested=True)\n",
    "        jethclean = genj[(cross.i0.delta_r(cross.i1) > 0.8).all()]\n",
    "        jetpt = jethclean['p4'].pt.pad(2, clip=True).fillna(0.)\n",
    "        \n",
    "        hjcross = genj['p4'].cross(genj8[:,:1]['p4'], nested=True)\n",
    "        jcut = (hjcross.i0.delta_r(hjcross.i1) > 0.8).any()\n",
    "        ecut = (jcut.sum()>=2) & (higgs['p4'].pt.flatten()>400)\n",
    "        jcut = jcut & ecut\n",
    "        vbfjets = genj[jcut][:,:2]\n",
    "        detajj = np.abs(vbfjets[:,0:1]['p4'].eta - vbfjets[:,1:2]['p4'].eta)\n",
    "        mjj = (vbfjets[:,0:1]['p4'] + vbfjets[:,1:2]['p4']).mass\n",
    "\n",
    "        if dataset == 'GluGluHToBB_M-125_13TeV_powheg_MINLO_NNLOPS_pythia8':\n",
    "            scalew = np.ones(shape=(df.size, 9))\n",
    "        else:\n",
    "            scalew = df['LHEScaleWeight'].regular()\n",
    "            \n",
    "        for iw in range(9):\n",
    "            output['hpt'].fill(dataset=dataset,\n",
    "                               pt=higgs['p4'].pt.flatten(),\n",
    "                               widx=iw,\n",
    "                               weight=df['genWeight']*scalew[:,iw])\n",
    "            output['hpt_showered'].fill(dataset=dataset,\n",
    "                               pt=higgs_showered['p4'].pt.flatten(),\n",
    "                               widx=iw,\n",
    "                               weight=df['genWeight']*scalew[:,iw])\n",
    "            output['j1pt'].fill(dataset=dataset,\n",
    "                               pt=jetpt[:,0].flatten(),\n",
    "                               widx=iw,\n",
    "                               weight=df['genWeight']*scalew[:,iw])\n",
    "            output['j2pt'].fill(dataset=dataset,\n",
    "                               pt=jetpt[:,1].flatten(),\n",
    "                               widx=iw,\n",
    "                               weight=df['genWeight']*scalew[:,iw])\n",
    "            output['vbfvars'].fill(dataset=dataset,\n",
    "                                   detajj=detajj.flatten(),\n",
    "                                   mjj=mjj.flatten(),\n",
    "                                   widx=iw,\n",
    "                                   weight=df['genWeight'][ecut]*scalew[ecut,iw])\n",
    "\n",
    "        if dataset == 'GluGluHToBB_M125_13TeV_powheg_pythia8':\n",
    "            iw = 4\n",
    "            wfact = ptreweight(higgs['p4'].pt.flatten())\n",
    "            output['hpt'].fill(dataset=dataset+\"_rwt\",\n",
    "                               pt=higgs['p4'].pt.flatten(),\n",
    "                               widx=iw,\n",
    "                               weight=df['genWeight']*scalew[:,iw]*wfact)\n",
    "            output['hpt_showered'].fill(dataset=dataset+\"_rwt\",\n",
    "                               pt=higgs_showered['p4'].pt.flatten(),\n",
    "                               widx=iw,\n",
    "                               weight=df['genWeight']*scalew[:,iw]*wfact)\n",
    "            output['vbfvars'].fill(dataset=dataset+\"_rwt\",\n",
    "                                   detajj=detajj.flatten(),\n",
    "                                   mjj=mjj.flatten(),\n",
    "                                   widx=iw,\n",
    "                                   weight=df['genWeight'][ecut]*scalew[ecut,iw]*wfact[ecut])\n",
    "        return output\n",
    "\n",
    "    def postprocess(self, accumulator):\n",
    "        return accumulator\n",
    "    \n",
    "\n",
    "class GetSumW(processor.ProcessorABC):\n",
    "    def __init__(self):\n",
    "\n",
    "        self._accumulator = processor.dict_accumulator({\n",
    "            'sumw': processor.defaultdict_accumulator(float),\n",
    "            'scaleSumw': processor.defaultdict_accumulator(partial(np.zeros, 9)),\n",
    "        })\n",
    "    \n",
    "    @property\n",
    "    def accumulator(self):\n",
    "        return self._accumulator\n",
    "\n",
    "    def process(self, df):\n",
    "        output = self.accumulator.identity()\n",
    "        dataset = df['dataset']\n",
    "        \n",
    "        output['sumw'][dataset] += np.sum(df['genEventSumw'])\n",
    "        if dataset == 'GluGluHToBB_M-125_13TeV_powheg_MINLO_NNLOPS_pythia8':\n",
    "            scalew = np.ones(shape=(1,9))*df['genEventSumw']\n",
    "        else:\n",
    "            scalew = df['LHEScaleSumw'].regular()\n",
    "        output['scaleSumw'][dataset] += np.sum(scalew*df['genEventSumw']/scalew[:,4], axis=0)\n",
    "        return output\n",
    "\n",
    "    def postprocess(self, accumulator):\n",
    "        return accumulator"
   ]
  },
  {
   "cell_type": "code",
   "execution_count": null,
   "metadata": {
    "scrolled": true
   },
   "outputs": [],
   "source": [
    "output = processor.run_uproot_job(samples,\n",
    "                                  treename='Events',\n",
    "                                  processor_instance=HiggsGenComparison(),\n",
    "                                  executor=processor.futures_executor,\n",
    "                                  executor_args={'workers': 4},\n",
    "                                  chunksize=500000,\n",
    "                                 )\n",
    "\n",
    "sumw = processor.run_uproot_job(samples,\n",
    "                                  treename='Runs',\n",
    "                                  processor_instance=GetSumW(),\n",
    "                                  executor=processor.futures_executor,\n",
    "                                  executor_args={'workers': 4},\n",
    "                                  chunksize=500000,\n",
    "                                 )\n",
    "\n",
    "output += sumw\n",
    "save(output, 'genHpt_nocut.coffea')"
   ]
  },
  {
   "cell_type": "code",
   "execution_count": 2,
   "metadata": {},
   "outputs": [],
   "source": [
    "output = load('genHpt_nocut.coffea')\n",
    "output['sumw']['GluGluHToBB_M125_13TeV_powheg_pythia8_rwt'] = output['sumw']['GluGluHToBB_M125_13TeV_powheg_pythia8']"
   ]
  },
  {
   "cell_type": "code",
   "execution_count": 3,
   "metadata": {},
   "outputs": [],
   "source": [
    "lumi = 1000.\n",
    "xs = {\n",
    "    # nominal 48.85, BR 0.5824\n",
    "    'GluGluHToBB_M125_13TeV_powheg_pythia8': 21.46, # HIG-RunIIFall18wmLHEGS-00565\n",
    "    'GluGluHToBB_M125_13TeV_powheg_pythia8_rwt': 48.85,\n",
    "    'GluGluHToBB_M125_13TeV_amcatnloFXFX_pythia8': 33.30,\n",
    "    'GluGluHToBB_M125_LHEHpT_250-Inf_13TeV_amcatnloFXFX_pythia8': 0.3447, # HIG-RunIIFall18wmLHEGS-00567\n",
    "    'GluGluHToBB_M-125_13TeV_powheg_MINLO_NNLOPS_pythia8': 27.80,\n",
    "    'VBFHToBB_M-125_13TeV_powheg_pythia8_weightfix': 3.782, # HIG-RunIIFall18wmLHEGS-00568, YR4\n",
    "    # VBF genXsec: 3.861\n",
    "    'MG5TopMassEffects': 38.44,  # +/- 0.55\n",
    "}\n",
    "scale = {k: lumi*xs[k]/v for k,v in output['sumw'].items() if k in xs}\n",
    "labels = {\n",
    "    'GluGluHToBB_M125_13TeV_powheg_pythia8': 'POWHEG mass effects',\n",
    "    'GluGluHToBB_M125_13TeV_powheg_pythia8_rwt': 'HIG-17-010',\n",
    "    'GluGluHToBB_M125_13TeV_amcatnloFXFX_pythia8': 'MG5 $m_{t}=\\infty$',\n",
    "    'GluGluHToBB_M-125_13TeV_powheg_MINLO_NNLOPS_pythia8': 'POWHEG MiNLO',\n",
    "    'MG5TopMassEffects': 'MG5 mass effects',\n",
    "    'VBFHToBB_M-125_13TeV_powheg_pythia8_weightfix': 'VBF POWHEG',\n",
    "}\n",
    "\n",
    "outs = {}\n",
    "for k,v in output.items():\n",
    "    if not isinstance(v, hist.Hist):\n",
    "        continue\n",
    "    hscaled = output[k].copy()\n",
    "    hscaled.scale(scale, axis='dataset')\n",
    "    hscaled.axis('dataset').label = ''\n",
    "    for sbin in hscaled.identifiers('dataset'):\n",
    "        sbin.label = labels[sbin.name]\n",
    "    outs[k] = hscaled"
   ]
  },
  {
   "cell_type": "code",
   "execution_count": 4,
   "metadata": {},
   "outputs": [
    {
     "name": "stderr",
     "output_type": "stream",
     "text": [
      "'texgyreheros-regular.otf' can not be subsetted into a Type 3 font. The entire font will be embedded in the output.\n"
     ]
    },
    {
     "data": {
      "image/png": "[encoded data removed]",
      "text/plain": [
       "<Figure size 432x288 with 1 Axes>"
      ]
     },
     "metadata": {
      "needs_background": "light"
     },
     "output_type": "display_data"
    }
   ],
   "source": [
    "import re\n",
    "ign = re.compile(\"(?!VBF|MG5)\")\n",
    "ax = hist.plot1d(outs['hpt'][ign].integrate('widx', 4), overlay='dataset')\n",
    "ax.set_xlim(0, None)\n",
    "ax.set_ylim(.001, None)\n",
    "ax.set_yscale('log')\n",
    "ax.figure.savefig('gen_higgsComparison_hpt.pdf')"
   ]
  },
  {
   "cell_type": "code",
   "execution_count": 5,
   "metadata": {},
   "outputs": [],
   "source": [
    "hpt = outs['hpt_showered']\n",
    "\n",
    "edges = hpt.axis('pt').edges()\n",
    "values = {k[0]: v for k,v in hpt.values(sumw2=True, overflow='over').items()}\n",
    "for k in values:\n",
    "    sumw = np.cumsum(values[k][0][::-1], axis=0)[::-1]\n",
    "    sumw2 = np.cumsum(values[k][1][::-1], axis=0)[::-1]\n",
    "    nom = sumw[:,4]\n",
    "    statw = np.sqrt(sumw2)[:,4]\n",
    "    valid = [0, 1, 3, 4, 5, 7, 8]\n",
    "    scaleup = np.max(sumw[:,valid], axis=1)\n",
    "    scaledn = np.min(sumw[:,valid], axis=1)\n",
    "    values[k] = (nom, statw, scaleup, scaledn)\n",
    "    \n",
    "values_showered = values\n",
    "hpt = outs['hpt']\n",
    "\n",
    "edges = hpt.axis('pt').edges()\n",
    "values = {k[0]: v for k,v in hpt.values(sumw2=True, overflow='over').items()}\n",
    "for k in values:\n",
    "    sumw = np.cumsum(values[k][0][::-1], axis=0)[::-1]\n",
    "    sumw2 = np.cumsum(values[k][1][::-1], axis=0)[::-1]\n",
    "    nom = sumw[:,4]\n",
    "    statw = np.sqrt(sumw2)[:,4]\n",
    "    valid = [0, 1, 3, 4, 5, 7, 8]\n",
    "    scaleup = np.max(sumw[:,valid], axis=1)\n",
    "    scaledn = np.min(sumw[:,valid], axis=1)\n",
    "    values[k] = (nom, statw, scaleup, scaledn)"
   ]
  },
  {
   "cell_type": "code",
   "execution_count": 6,
   "metadata": {},
   "outputs": [],
   "source": [
    "# https://cds.cern.ch/record/2669113/files/LHCHXSWG-2019-002.pdf\n",
    "# Table 8\n",
    "edges_xswg = np.array([   400,   430,   450,  500,  550,  600,  650,  700,  750,  800])\n",
    "values_xswg = np.array([32.03, 22.05, 17.37, 9.66, 5.54, 3.24, 1.94, 1.15, 0.69, 0.41])\n",
    "\n",
    "from scipy.interpolate import interp1d\n",
    "interp_xswg = interp1d(edges_xswg, values_xswg, kind='cubic')\n",
    "cut = (edges >= edges_xswg[0]) & (edges <= edges_xswg[-1])"
   ]
  },
  {
   "cell_type": "code",
   "execution_count": 8,
   "metadata": {},
   "outputs": [
    {
     "data": {
      "text/plain": [
       "1.1633731200000001"
      ]
     },
     "execution_count": 8,
     "metadata": {},
     "output_type": "execute_result"
    }
   ],
   "source": [
    "17.37 * 0.5824 * 0.115"
   ]
  },
  {
   "cell_type": "code",
   "execution_count": 9,
   "metadata": {},
   "outputs": [
    {
     "data": {
      "text/plain": [
       "0.29038314083151906"
      ]
     },
     "execution_count": 9,
     "metadata": {},
     "output_type": "execute_result"
    }
   ],
   "source": [
    "8.4332/29.041630915112115"
   ]
  },
  {
   "cell_type": "code",
   "execution_count": 26,
   "metadata": {},
   "outputs": [
    {
     "name": "stdout",
     "output_type": "stream",
     "text": [
      "450.0\n",
      "14.480247738892473\n"
     ]
    }
   ],
   "source": [
    "nom, statw, *_ = values['GluGluHToBB_M-125_13TeV_powheg_MINLO_NNLOPS_pythia8']\n",
    "print(edges[45])\n",
    "print(nom[45]) # * 0.5824)\n",
    "# print(statw[45]) # * 0.5824)"
   ]
  },
  {
   "cell_type": "code",
   "execution_count": 12,
   "metadata": {},
   "outputs": [
    {
     "data": {
      "text/plain": [
       "650.0"
      ]
     },
     "execution_count": 12,
     "metadata": {},
     "output_type": "execute_result"
    }
   ],
   "source": [
    "edges[65]"
   ]
  },
  {
   "cell_type": "code",
   "execution_count": 16,
   "metadata": {},
   "outputs": [
    {
     "name": "stdout",
     "output_type": "stream",
     "text": [
      "18.01684954938077\n",
      "0.21474829406449045\n"
     ]
    }
   ],
   "source": [
    "nom, statw, *_ = values['GluGluHToBB_M125_13TeV_powheg_pythia8_rwt']\n",
    "print(nom[45] * 0.5824)\n",
    "print(statw[45] * 0.5824)"
   ]
  },
  {
   "cell_type": "code",
   "execution_count": 11,
   "metadata": {
    "scrolled": false
   },
   "outputs": [
    {
     "data": {
      "text/plain": [
       "Text(0.5, 0, '$p_{T,h}^{cut}$ [GeV]')"
      ]
     },
     "execution_count": 11,
     "metadata": {},
     "output_type": "execute_result"
    },
    {
     "data": {
      "image/png": "[encoded data removed]",
      "text/plain": [
       "<Figure size 720x720 with 2 Axes>"
      ]
     },
     "metadata": {
      "needs_background": "light"
     },
     "output_type": "display_data"
    }
   ],
   "source": [
    "fig, (ax, rax) = plt.subplots(2, 1, gridspec_kw={\"height_ratios\": (3, 1)}, sharex=True)\n",
    "fig.subplots_adjust(hspace=.07)\n",
    "# figsize=(6,6),\n",
    "\n",
    "def draw(key, label, scale=True):\n",
    "    nom, statw, scaleup, scaledn = values_showered[key]\n",
    "    line, = ax.step(x=edges, y=nom, where='post', label=label)\n",
    "    fill = ax.fill_between(x=edges, y1=nom - statw, y2=nom + statw,\n",
    "                           facecolor='none', edgecolor=line.get_color(), hatch='///', linewidth=0, step='post', label='_')\n",
    "    if scale:\n",
    "        fills = ax.fill_between(x=edges, y1=scaledn, y2=scaleup,\n",
    "                           color=line.get_color(), alpha=0.2, step='post', label='_')\n",
    "    \n",
    "    rline, = rax.step(edges[cut], nom[cut]/interp_xswg(edges[cut]), color=line.get_color(), where='post')\n",
    "    return line\n",
    "\n",
    "l0, = ax.plot(edges_xswg, values_xswg, linestyle='-', color='k', linewidth=2, label='LHCHXSWG-2019-002')\n",
    "\n",
    "\n",
    "# http://home.fnal.gov/~ncsmith/gg_H_quark-mass-effects_NNPDF31_13TeV_M125_slc6_amd64_gcc630_CMSSW_9_3_0.powheg.input\n",
    "# https://arxiv.org/pdf/1111.2854.pdf\n",
    "# l1 = draw('GluGluHToBB_M125_13TeV_powheg_pythia8', 'POWHEG mass effects')\n",
    "\n",
    "\n",
    "# l2 = draw('GluGluHToBB_M125_LHEHpT_250-Inf_13TeV_amcatnloFXFX_pythia8', r'MG5 $m_{t}=\\infty$')\n",
    "# l2 = draw('GluGluHToBB_M125_13TeV_amcatnloFXFX_pythia8', r'MG5 $m_{t}=\\infty$')\n",
    "\n",
    "\n",
    "# https://github.com/cms-sw/genproductions/blob/b8c44435bd90b2e11cdd21ba596113b1b278a38c/bin/Powheg/production/2017/13TeV/Higgs/HJ_MiNLO_NNLOPS_NNPDF31_13TeV/HJ_MiNLO_NNLOPS_NNPDF31_13TeV.input\n",
    "# https://arxiv.org/pdf/1212.4504.pdf\n",
    "l3 = draw('GluGluHToBB_M-125_13TeV_powheg_MINLO_NNLOPS_pythia8', 'POWHEG MiNLO', scale=False)\n",
    "\n",
    "\n",
    "#l4 = draw('MG5TopMassEffects', 'MG5 mass effects')\n",
    "\n",
    "l5 = draw('GluGluHToBB_M125_13TeV_powheg_pythia8_rwt', 'HIG-17-010 sample', scale=False)\n",
    "\n",
    "ax.set_yscale('log')\n",
    "ax.set_ylim(5e-2, 1e5)\n",
    "ax.set_ylabel(r'$\\sigma(gg\\to h, p_{T,h}\\geq p_{T,h}^{cut})$ [fb]')\n",
    "\n",
    "from matplotlib.patches import Patch\n",
    "statpatch = Patch(facecolor='none', edgecolor='k', hatch='///', linewidth=0, label='Stat. Unc.')\n",
    "scalepatch = Patch(facecolor='black', alpha=0.2, label=r'$\\mu_R,\\mu_F$ Unc.')\n",
    "litems = [l0, l3, l5, statpatch]\n",
    "ax.legend(litems, [x.get_label() for x in litems])\n",
    "\n",
    "\n",
    "rax.set_xlim(250, 1200)\n",
    "rax.set_ylim(0, 3)\n",
    "rax.axhline(1, alpha=0.5, color='k', linestyle='--')\n",
    "rax.set_ylabel('x / HXSWG')\n",
    "rax.set_xlabel(r'$p_{T,h}^{cut}$ [GeV]')"
   ]
  },
  {
   "cell_type": "code",
   "execution_count": 12,
   "metadata": {},
   "outputs": [
    {
     "name": "stderr",
     "output_type": "stream",
     "text": [
      "'texgyreheros-regular.otf' can not be subsetted into a Type 3 font. The entire font will be embedded in the output.\n"
     ]
    }
   ],
   "source": [
    "fig.savefig('hxswg_cmsgenerators_comparison_showered_simple.pdf')"
   ]
  },
  {
   "cell_type": "code",
   "execution_count": null,
   "metadata": {},
   "outputs": [],
   "source": [
    "edges = hpt.axis('pt').edges()\n",
    "values = {k[0]: v for k,v in hpt.values(sumw2=True, overflow='over').items()}\n",
    "\n",
    "minlo, minlo_unc = values['GluGluHToBB_M-125_13TeV_powheg_MINLO_NNLOPS_pythia8']\n",
    "minlo = minlo[cut][:-1, 4]\n",
    "minlo_unc = np.sqrt(minlo_unc[cut][:-1, 4])\n",
    "xswg = - np.diff(interp_xswg(edges[cut]))\n",
    "center = (edges[cut][1:] + edges[cut][:-1]) / 2\n",
    "ratio = minlo / xswg\n",
    "ratio_unc = minlo_unc / xswg\n",
    "\n",
    "fig, ax = plt.subplots()\n",
    "ax.errorbar(center, ratio, yerr=ratio_unc, linestyle='none', label='Simulation')\n",
    "\n",
    "from scipy.optimize import curve_fit\n",
    "\n",
    "def poly(x, *params):\n",
    "    return np.poly1d(np.array(params))(x)\n",
    "\n",
    "par, cov = curve_fit(poly, center, ratio, p0=(0., 1.), sigma=ratio_unc)\n",
    "xfit = np.linspace(400, 1200, 100)\n",
    "ax.plot(xfit, poly(xfit, *par), label='Linear fit\\n%f*pt + %f' % tuple(par))\n",
    "\n",
    "ax.set_ylabel('MINLO / XSWG')\n",
    "ax.set_xlabel(r'Higgs $p_T$')\n",
    "ax.set_xlim(400, 1200)\n",
    "ax.set_ylim(0, 2)\n",
    "ax.legend()\n",
    "fig.savefig('hxswg_minlo_differential_ratio.pdf')\n",
    "poly(np.array([1200, 450]), *par)"
   ]
  },
  {
   "cell_type": "code",
   "execution_count": null,
   "metadata": {},
   "outputs": [],
   "source": [
    "labels = {\n",
    "    'GluGluHToBB_M125_13TeV_powheg_pythia8': 'ggF POWHEG mass effects',\n",
    "    'GluGluHToBB_M125_13TeV_amcatnloFXFX_pythia8': 'ggF aMC@NLO',\n",
    "    'GluGluHToBB_M-125_13TeV_powheg_MINLO_NNLOPS_pythia8': 'ggF POWHEG MiNLO',\n",
    "    'VBFHToBB_M-125_13TeV_powheg_pythia8_weightfix': 'VBF POWHEG',\n",
    "    #'MG5TopMassEffects': 'MG5 mass effects',\n",
    "}\n",
    "h = outs['vbfvars'][list(labels.keys())]\n",
    "for k, v in labels.items():\n",
    "    h.axis('dataset').index(k).label = v\n",
    "fig, ax, _ = hist.plot1d(h.sum('detajj').integrate('widx', 4), overlay='dataset', density=True)"
   ]
  },
  {
   "cell_type": "code",
   "execution_count": null,
   "metadata": {},
   "outputs": [],
   "source": [
    "fig.savefig('detajj_higgsComparison.pdf')"
   ]
  },
  {
   "cell_type": "code",
   "execution_count": null,
   "metadata": {},
   "outputs": [],
   "source": [
    "fig, ax = plt.subplots()\n",
    "\n",
    "labels = {\n",
    "    'GluGluHToBB_M125_13TeV_powheg_pythia8': 'POWHEG mass effects',\n",
    "    'GluGluHToBB_M125_13TeV_amcatnloFXFX_pythia8': 'MG5 $m_{t}=\\infty$',\n",
    "    'GluGluHToBB_M-125_13TeV_powheg_MINLO_NNLOPS_pythia8': 'POWHEG MiNLO',\n",
    "    'MG5TopMassEffects': 'MG5 mass effects',\n",
    "}\n",
    "for proc, lbl in labels.items():\n",
    "    lhe = values[proc][0]\n",
    "    showered = (values_showered[proc][0])\n",
    "    ax.step(x=edges[:], y=showered/lhe, where='post', label=lbl)\n",
    "ax.set_ylim(0, 2)\n",
    "ax.legend(title='Showered/LHE')\n",
    "ax.set_xlim(0, 1200)"
   ]
  },
  {
   "cell_type": "code",
   "execution_count": null,
   "metadata": {},
   "outputs": [],
   "source": [
    "fig.savefig('showered_vs_lhe.pdf')"
   ]
  },
  {
   "cell_type": "code",
   "execution_count": null,
   "metadata": {},
   "outputs": [],
   "source": []
  }
 ],
 "metadata": {
  "kernelspec": {
   "display_name": "Python 3",
   "language": "python",
   "name": "python3"
  },
  "language_info": {
   "codemirror_mode": {
    "name": "ipython",
    "version": 3
   },
   "file_extension": ".py",
   "mimetype": "text/x-python",
   "name": "python",
   "nbconvert_exporter": "python",
   "pygments_lexer": "ipython3",
   "version": "3.7.6"
  }
 },
 "nbformat": 4,
 "nbformat_minor": 2
}
